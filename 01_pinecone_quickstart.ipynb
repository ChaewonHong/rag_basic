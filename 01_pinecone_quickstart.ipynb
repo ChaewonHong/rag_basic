{
 "cells": [
  {
   "cell_type": "code",
   "execution_count": 1,
   "metadata": {},
   "outputs": [],
   "source": [
    "from dotenv import load_dotenv\n",
    "import os\n",
    "\n",
    "# .env 파일에서 환경 변수 로드\n",
    "load_dotenv()\n",
    "\n",
    "# 환경 변수에서 PINECONE_API_KEY 가져오기\n",
    "PINECONE_API_KEY = os.environ['PINECONE_API_KEY']\n",
    "# PINECONE_API_KEY"
   ]
  },
  {
   "cell_type": "markdown",
   "metadata": {},
   "source": [
    "# PINECONE 클라이언트 초기화"
   ]
  },
  {
   "cell_type": "code",
   "execution_count": 2,
   "metadata": {},
   "outputs": [],
   "source": [
    "from pinecone import Pinecone, ServerlessSpec\n",
    "\n",
    "pc = Pinecone(api_key=PINECONE_API_KEY)"
   ]
  },
  {
   "cell_type": "markdown",
   "metadata": {},
   "source": [
    "# 레코드 Upsert"
   ]
  },
  {
   "cell_type": "code",
   "execution_count": 3,
   "metadata": {},
   "outputs": [
    {
     "data": {
      "text/plain": [
       "{'dimension': 3,\n",
       " 'index_fullness': 0.0,\n",
       " 'namespaces': {},\n",
       " 'total_vector_count': 0}"
      ]
     },
     "execution_count": 3,
     "metadata": {},
     "output_type": "execute_result"
    }
   ],
   "source": [
    "# embedding-3d 라는 이름의 인덱스 초기화\n",
    "index = pc.Index(\"embedding-3d\")\n",
    "\n",
    "# 인덱스의 통계 정보에는 인덱스에 저장된 벡터의 수, 차원, 메타데이터 등의 정보가 포함\n",
    "index.describe_index_stats()"
   ]
  },
  {
   "cell_type": "markdown",
   "metadata": {},
   "source": [
    "* namespaces가 비어있음\n",
    "* namespaces에 이름이 없으면 hush가 없기 때문에 서칭 속도가 느려짐\n",
    "* namespaces를 쓰면 속도 향상"
   ]
  },
  {
   "cell_type": "markdown",
   "metadata": {},
   "source": [
    "# 벡터 임베딩\n",
    "\n",
    "* id, values: 필수 field\n",
    "* id: 키\n",
    "* id, values 키는 반드시 문자열로 표현"
   ]
  },
  {
   "cell_type": "markdown",
   "metadata": {},
   "source": [
    "벡터는 2차원, 근데 인덱스는 3차원임 -> 차원 다름"
   ]
  },
  {
   "cell_type": "code",
   "execution_count": 6,
   "metadata": {},
   "outputs": [
    {
     "data": {
      "text/plain": [
       "{'upserted_count': 6}"
      ]
     },
     "execution_count": 6,
     "metadata": {},
     "output_type": "execute_result"
    }
   ],
   "source": [
    "index.upsert(\n",
    "    vectors=[       # 딕셔너리를 리스트로 넣음\n",
    "        {\n",
    "            \"id\": \"vec1\",\n",
    "            # 원래 파인콘 홈페이지에서 복붙해오면 2차원임 \n",
    "            # -> 3번째 숫자 임의로 추가해서 3차원 맞춰야함 (인덱스가 3차원이니까)                   \n",
    "            \"values\": [1.0, 1.5, 2.0],       # 3차원 -> 유사도 계산할때 얘를 씀\n",
    "            \"metadata\": {\"genre\": \"drama\"}   # 실제 데이터 \n",
    "        }, {\n",
    "            \"id\": \"vec2\", \n",
    "            \"values\": [2.0, 1.0, 0.5], \n",
    "            \"metadata\": {\"genre\": \"action\"}\n",
    "        }, {\n",
    "            \"id\": \"vec3\", \n",
    "            \"values\": [0.1, 0.3, 0.5], \n",
    "            \"metadata\": {\"genre\": \"drama\"}\n",
    "        }, {\n",
    "            \"id\": \"vec4\", \n",
    "            \"values\": [1.0, -2.5, 1.4], \n",
    "            \"metadata\": {\"genre\": \"action\"}\n",
    "        }, {\n",
    "            \"id\": \"vec5\",\n",
    "            \"values\": [3.0, 1.2, 1.3],\n",
    "            \"metadata\": {\"genre\": \"action\"}\n",
    "        }, {\n",
    "            \"id\": \"vec6\",\n",
    "            \"values\": [0.3, 1.1, 2.5],\n",
    "            \"metadata\": {\"genre\": \"drama\"}\n",
    "        }\n",
    "    ],\n",
    "    namespace= \"embedding-3d-ns1\"  # namespace를 만들면 서칭 속도가 빨라짐\n",
    ")"
   ]
  },
  {
   "cell_type": "markdown",
   "metadata": {},
   "source": [
    "# 쿼리하기\n",
    "\n",
    "* index.query() 메서드 사용\n",
    "* 주어진 벡터와 유사한 상위 k개의 항목을 쿼리하여 응답을 반환함.\n",
    "* namespace (str): 쿼리할 네임스페이스 이름\n",
    "* vector (list): 쿼리에 사용할 벡터\n",
    "* top_k (int): 반환할 상위 k개의 항목 수\n",
    "* include_values (bool): 응답에 벡터 값을 포함할지 여부\n",
    "* include_metadata (bool): 응답에 메타데이터를 포함할지 여부"
   ]
  },
  {
   "cell_type": "code",
   "execution_count": 8,
   "metadata": {},
   "outputs": [
    {
     "name": "stdout",
     "output_type": "stream",
     "text": [
      "{'matches': [{'id': 'vec6',\n",
      "              'metadata': {'genre': 'drama'},\n",
      "              'score': 0.998498499,\n",
      "              'values': [0.3, 1.1, 2.5]},\n",
      "             {'id': 'vec3',\n",
      "              'metadata': {'genre': 'drama'},\n",
      "              'score': 0.987675,\n",
      "              'values': [0.1, 0.3, 0.5]},\n",
      "             {'id': 'vec1',\n",
      "              'metadata': {'genre': 'drama'},\n",
      "              'score': 0.940560639,\n",
      "              'values': [1.0, 1.5, 2.0]}],\n",
      " 'namespace': 'embedding-3d-ns1',\n",
      " 'usage': {'read_units': 6}}\n"
     ]
    }
   ],
   "source": [
    "# 유사도 높은 데이터 검색\n",
    "response = index.query(\n",
    "    namespace=\"embedding-3d-ns1\",  # 네임 스페이스\n",
    "     # namespace=\"\",  \n",
    "     # default, 기본 공간에서 찾음  , layer : 비슷한 것끼리 모아둠\n",
    "    vector = [0.1, 0.3, 0.7],  # -> 쿼리 벡터\n",
    "    top_k=3,                    # 유사도 높은 3개만 뽑\n",
    "    include_values=True,        # value 포함\n",
    "    include_metadata=True       # 메타데이터 포함\n",
    ")\n",
    "\n",
    "print(response)"
   ]
  },
  {
   "cell_type": "markdown",
   "metadata": {},
   "source": [
    "* 주어진 벡터와 유사한 상위 k개의 항목을 필터 조건으로 쿼리하여 응답 반환"
   ]
  },
  {
   "cell_type": "code",
   "execution_count": 12,
   "metadata": {},
   "outputs": [
    {
     "name": "stdout",
     "output_type": "stream",
     "text": [
      "{'matches': [{'id': 'vec6',\n",
      "              'metadata': {'genre': 'drama'},\n",
      "              'score': 0.998498499,\n",
      "              'values': [0.3, 1.1, 2.5]},\n",
      "             {'id': 'vec3',\n",
      "              'metadata': {'genre': 'drama'},\n",
      "              'score': 0.987675,\n",
      "              'values': [0.1, 0.3, 0.5]},\n",
      "             {'id': 'vec1',\n",
      "              'metadata': {'genre': 'drama'},\n",
      "              'score': 0.940560639,\n",
      "              'values': [1.0, 1.5, 2.0]}],\n",
      " 'namespace': 'embedding-3d-ns1',\n",
      " 'usage': {'read_units': 6}}\n"
     ]
    }
   ],
   "source": [
    "# 장르가 드라마인거 찾기 \n",
    "# filter (딕셔너리): 쿼리할 벡터의 필터조건\n",
    "response = index.query(\n",
    "    namespace=\"embedding-3d-ns1\",  # 네임 스페이스\n",
    "    vector = [0.1, 0.3, 0.7],  # -> 쿼리 벡터\n",
    "    top_k=3,                    # 유사도 높은 3개만 뽑\n",
    "    include_values=True,        # value 포함\n",
    "    include_metadata=True,       # 메타데이터 포함\n",
    "    filter={                        # 필터: where절과 유사\n",
    "        \"genre\":{\"$eq\":\"drama\"}     # 장르가 드라마인것만 필터링\n",
    "    }\n",
    ")\n",
    "\n",
    "print(response)"
   ]
  },
  {
   "cell_type": "markdown",
   "metadata": {},
   "source": [
    "* embedding-3d-ns1 네임스페이스의 모든 레코드 id 조회"
   ]
  },
  {
   "cell_type": "code",
   "execution_count": 13,
   "metadata": {},
   "outputs": [
    {
     "name": "stdout",
     "output_type": "stream",
     "text": [
      "['vec1', 'vec2', 'vec3', 'vec4', 'vec5', 'vec6']\n"
     ]
    }
   ],
   "source": [
    "for ids in index.list(namespace=\"embedding-3d-ns1\"):\n",
    "    print(ids)"
   ]
  },
  {
   "cell_type": "markdown",
   "metadata": {},
   "source": [
    "* 지정된 네임스페이스(embedding-3d-ns1)에 있는 모든 ID를 리스트 형태로 반환"
   ]
  },
  {
   "cell_type": "code",
   "execution_count": 16,
   "metadata": {},
   "outputs": [
    {
     "name": "stdout",
     "output_type": "stream",
     "text": [
      "dict_values([{'id': 'vec3', 'metadata': {'genre': 'drama'}, 'values': [0.1, 0.3, 0.5]}, {'id': 'vec2', 'metadata': {'genre': 'action'}, 'values': [2.0, 1.0, 0.5]}, {'id': 'vec4', 'metadata': {'genre': 'action'}, 'values': [1.0, -2.5, 1.4]}, {'id': 'vec6', 'metadata': {'genre': 'drama'}, 'values': [0.3, 1.1, 2.5]}, {'id': 'vec1', 'metadata': {'genre': 'drama'}, 'values': [1.0, 1.5, 2.0]}, {'id': 'vec5', 'metadata': {'genre': 'action'}, 'values': [3.0, 1.2, 1.3]}])\n"
     ]
    }
   ],
   "source": [
    "for ids in index.list(namespace=\"embedding-3d-ns1\"):\n",
    "    # vectors = index.fetch(ids, namespace=\"embedding-3d-ns1\")\n",
    "    # print(vectors)\n",
    "    vectors = index.fetch(ids, namespace=\"embedding-3d-ns1\")['vectors']\n",
    "    print(vectors.values())"
   ]
  },
  {
   "cell_type": "markdown",
   "metadata": {},
   "source": [
    "* ids: 벡터 데이터에서 추출한 ID 리스트\n",
    "* values: 벡터 데이터에서 추출한 값 리스트"
   ]
  },
  {
   "cell_type": "code",
   "execution_count": 18,
   "metadata": {},
   "outputs": [
    {
     "name": "stdout",
     "output_type": "stream",
     "text": [
      "['vec3', 'vec2', 'vec4', 'vec6', 'vec1', 'vec5']\n",
      "[[0.1, 0.3, 0.5], [2.0, 1.0, 0.5], [1.0, -2.5, 1.4], [0.3, 1.1, 2.5], [1.0, 1.5, 2.0], [3.0, 1.2, 1.3]]\n"
     ]
    }
   ],
   "source": [
    "ids = [v['id'] for v in vectors.values()] \n",
    "values = [v['values'] for v in vectors.values()] \n",
    "\n",
    "print(ids)\n",
    "print(values)"
   ]
  },
  {
   "cell_type": "code",
   "execution_count": 19,
   "metadata": {},
   "outputs": [
    {
     "name": "stdout",
     "output_type": "stream",
     "text": [
      "['vec3', 'vec2', 'vec4', 'vec6', 'vec1', 'vec5', 'qv']\n",
      "[[0.1, 0.3, 0.5], [2.0, 1.0, 0.5], [1.0, -2.5, 1.4], [0.3, 1.1, 2.5], [1.0, 1.5, 2.0], [3.0, 1.2, 1.3], [0.1, 0.3, 0.7]]\n"
     ]
    }
   ],
   "source": [
    "ids += [\"qv\"]\n",
    "values += [[0.1, 0.3, 0.7]]\n",
    "\n",
    "print(ids)\n",
    "print(values)"
   ]
  },
  {
   "cell_type": "markdown",
   "metadata": {},
   "source": [
    "# Embedding Vector Space 시각화"
   ]
  },
  {
   "cell_type": "code",
   "execution_count": 20,
   "metadata": {},
   "outputs": [
    {
     "data": {
      "image/png": "[encoded data removed]",
      "text/plain": [
       "<Figure size 640x480 with 1 Axes>"
      ]
     },
     "metadata": {},
     "output_type": "display_data"
    }
   ],
   "source": [
    "import matplotlib.pyplot as plt\n",
    "\n",
    "# 3D 플롯을 생성\n",
    "fig = plt.figure()\n",
    "ax = fig.add_subplot(111, projection='3d')\n",
    "\n",
    "# 각 벡터의 ID, values -> 3D 공간에 점 그리기\n",
    "for i, id in enumerate(ids):\n",
    "    if id == \"qv\":\n",
    "        # 쿼리 벡터는 노란색 사각형으로 표시\n",
    "        ax.scatter(values[i][0], values[i][1], values[i][2], label=id, color='y', s=50, marker='s')\n",
    "        ax.text(values[i][0] + 0.1, values[i][1] + 0.1, values[i][2] + 0.1, id)\n",
    "    else:\n",
    "        # 나머지 벡터는 기본 색상으로 표시합니다.\n",
    "        ax.scatter(values[i][0], values[i][1], values[i][2], label=id)\n",
    "        ax.text(values[i][0] + 0.1, values[i][1] + 0.1, values[i][2] + 0.1, id)\n",
    "\n",
    "# 축 레이블과 제목을 설정합니다.\n",
    "ax.set_xlabel('X')\n",
    "ax.set_ylabel('Y')\n",
    "ax.set_zlabel('Z')\n",
    "ax.set_title('Embedding Vector Space')\n",
    "\n",
    "# 플롯을 표시합니다.\n",
    "plt.show()"
   ]
  },
  {
   "cell_type": "markdown",
   "metadata": {},
   "source": [
    "# 인덱스 생성 및 삭제"
   ]
  },
  {
   "cell_type": "markdown",
   "metadata": {},
   "source": [
    "## 서버리스 인덱스 삭제"
   ]
  },
  {
   "cell_type": "code",
   "execution_count": 21,
   "metadata": {},
   "outputs": [],
   "source": [
    "index_name = \"quickstart\"\n",
    "\n",
    "# Pinecone에 있는 모든 인덱스 순회\n",
    "for idx in pc.list_indexes():\n",
    "    # 인덱스 이름이 quickstart와 일치하는 경우 해당 인덱스 삭제\n",
    "    if idx.name == index_name:\n",
    "        pc.delete_index(idx.name)"
   ]
  },
  {
   "cell_type": "markdown",
   "metadata": {},
   "source": [
    "## 인덱스 생성"
   ]
  },
  {
   "cell_type": "markdown",
   "metadata": {},
   "source": [
    "* Pinecone 인덱스 생성\n",
    "* 인덱스 이름: \"quickstart\"\n",
    "* 차원: 1024\n",
    "* 메트릭: 코사인 유사도\n",
    "* 인덱스는 AWS의 us-east-1 리전에서 서버리스 사양으로 생성"
   ]
  },
  {
   "cell_type": "code",
   "execution_count": 22,
   "metadata": {},
   "outputs": [],
   "source": [
    "index_name = \"quickstart\"\n",
    "pc.create_index(\n",
    "    name=index_name,\n",
    "    dimension=1024, # 모델 차원\n",
    "    metric=\"cosine\", # 모델 메트릭\n",
    "    spec=ServerlessSpec(\n",
    "        cloud=\"aws\",\n",
    "        region=\"us-east-1\"\n",
    "    )\n",
    ")"
   ]
  },
  {
   "cell_type": "code",
   "execution_count": 23,
   "metadata": {},
   "outputs": [
    {
     "data": {
      "text/plain": [
       "{'indexes': [{'deletion_protection': 'disabled',\n",
       "              'dimension': 1024,\n",
       "              'host': 'quickstart-4tog56e.svc.aped-4627-b74a.pinecone.io',\n",
       "              'metric': 'cosine',\n",
       "              'name': 'quickstart',\n",
       "              'spec': {'serverless': {'cloud': 'aws', 'region': 'us-east-1'}},\n",
       "              'status': {'ready': True, 'state': 'Ready'}},\n",
       "             {'deletion_protection': 'disabled',\n",
       "              'dimension': 3,\n",
       "              'host': 'embedding-3d-4tog56e.svc.aped-4627-b74a.pinecone.io',\n",
       "              'metric': 'cosine',\n",
       "              'name': 'embedding-3d',\n",
       "              'spec': {'serverless': {'cloud': 'aws', 'region': 'us-east-1'}},\n",
       "              'status': {'ready': True, 'state': 'Ready'}}]}"
      ]
     },
     "execution_count": 23,
     "metadata": {},
     "output_type": "execute_result"
    }
   ],
   "source": [
    "# Pinecone 클라이언트를 사용하여 현재 사용 가능한 모든 인덱스의 목록을 반환합니다.\n",
    "pc.list_indexes()"
   ]
  },
  {
   "cell_type": "markdown",
   "metadata": {},
   "source": [
    "# 임베딩 벡터 생성\n",
    "\n",
    "Pinecone에서 레코드 id는 각 벡터를 고유하게 식별하는 데 사용됩니다.\n",
    "\n",
    "Pinecone에서 id에 대한 주요 제약사항은 다음과 같습니다:\n",
    "\n",
    "- 고유성: 각 벡터의 id는 인덱스 내에서 고유해야 합니다.\n",
    "- 문자열 형식: id는 문자열 형태여야 합니다.\n",
    "- 길이 제한: id의 최대 길이는 512바이트입니다.\n",
    "- 허용 문자: id에는 영숫자, -, \\_, #, :를 사용할 수 있습니다.\n",
    "    - 각각의 특수 문자는 의미가 있음\n",
    "- 대소문자 구분: id는 대소문자를 구분합니다.\n",
    "- 공백 불가: id에는 공백을 포함할 수 없습니다\n",
    "\n",
    "이러한 제약사항들은 Pinecone 시스템에서 벡터를 효율적으로 관리하고 검색할 수 있도록 하기 위해 설계되었습니다. id를 생성할 때 이러한 규칙을 준수하면 Pinecone 인덱스와 원활하게 작업할 수 있습니다."
   ]
  },
  {
   "cell_type": "code",
   "execution_count": 24,
   "metadata": {},
   "outputs": [],
   "source": [
    "data = [\n",
    "    {\"id\": \"vec1\", \"text\": \"사과는 달콤하고 아삭한 식감으로 유명한 인기 있는 과일입니다.\"},\n",
    "    {\"id\": \"vec2\", \"text\": \"애플이라는 기술 회사는 아이폰과 같은 혁신적인 제품으로 유명합니다.\"},\n",
    "    {\"id\": \"vec3\", \"text\": \"많은 사람들이 건강한 간식으로 사과를 즐겨 먹습니다.\"},\n",
    "    {\"id\": \"vec4\", \"text\": \"애플 주식회사는 세련된 디자인과 사용자 친화적인 인터페이스로 기술 산업을 혁신했습니다.\"},\n",
    "    {\"id\": \"vec5\", \"text\": \"하루에 사과 하나면 의사를 멀리할 수 있다는 속담이 있습니다.\"},\n",
    "    {\"id\": \"vec6\", \"text\": \"애플 컴퓨터 회사는 1976년 4월 1일 스티브 잡스, 스티브 워즈니악, 로널드 웨인에 의해 파트너십으로 설립되었습니다.\"}\n",
    "]"
   ]
  },
  {
   "cell_type": "code",
   "execution_count": 25,
   "metadata": {},
   "outputs": [
    {
     "name": "stdout",
     "output_type": "stream",
     "text": [
      "{'values': [0.0303497314453125, -0.02069091796875, ..., -0.0301971435546875, 0.0240325927734375]}\n"
     ]
    }
   ],
   "source": [
    "embeddings = pc.inference.embed(\n",
    "    model=\"multilingual-e5-large\",\n",
    "    inputs = [d['text'] for d in data],\n",
    "    parameters = {\"input_type\": \"passage\", \"truncate\": \"END\"}\n",
    ")\n",
    "\n",
    "# 첫 번째 임베딩 벡터를 출력합니다\n",
    "print(embeddings[0])"
   ]
  },
  {
   "cell_type": "markdown",
   "metadata": {},
   "source": [
    "# 레코드 Upsert"
   ]
  },
  {
   "cell_type": "code",
   "execution_count": 26,
   "metadata": {},
   "outputs": [
    {
     "data": {
      "text/plain": [
       "{'upserted_count': 6}"
      ]
     },
     "execution_count": 26,
     "metadata": {},
     "output_type": "execute_result"
    }
   ],
   "source": [
    "import time\n",
    "\n",
    "# 인덱스가 준비될 때까지 대기\n",
    "while not pc.describe_index(index_name).status['ready']:\n",
    "    time.sleep(1)\n",
    "\n",
    "# 인덱스 초기화\n",
    "index = pc.Index(index_name)\n",
    "\n",
    "# 벡터 리스트를 초기화 & 벡터DB에 넣을 데이터셋 구성\n",
    "vectors=[]\n",
    "for d, e in zip(data, embeddings):\n",
    "    # 각 데이터와 임베딩 결합 -> 벡터 생성\n",
    "    vectors.append({\n",
    "        \"id\":d['id'],\n",
    "        \"values\": e[\"values\"],\n",
    "        \"metadata\":{'text':d['text']}\n",
    "    })\n",
    "\n",
    "# 벡터를 인덱스에 upsert\n",
    "# quickstart_ns1 네임스페이스에 벡터를 추가\n",
    "index.upsert(\n",
    "    vectors=vectors,\n",
    "    namespace=\"quickstart_ns1\"\n",
    ")"
   ]
  },
  {
   "cell_type": "markdown",
   "metadata": {},
   "source": [
    "## 인덱스 통계 정보 확인"
   ]
  },
  {
   "cell_type": "code",
   "execution_count": 27,
   "metadata": {},
   "outputs": [
    {
     "name": "stdout",
     "output_type": "stream",
     "text": [
      "{'dimension': 1024,\n",
      " 'index_fullness': 0.0,\n",
      " 'namespaces': {'quickstart_ns1': {'vector_count': 6}},\n",
      " 'total_vector_count': 6}\n"
     ]
    }
   ],
   "source": [
    "# Pinecone 인덱스 통계정보 설명 메서드 호출, 그 결과 출력\n",
    "# 인덱스의 통계 정보에는 인덱스에 저장된 벡터의 수, 차원, 메타데이터 등의 정보가 포함\n",
    "\n",
    "print(index.describe_index_stats(namespace=\"quickstart_ns1\"))"
   ]
  },
  {
   "cell_type": "markdown",
   "metadata": {},
   "source": [
    "## 쿼리 (Query)\n",
    "* 쿼리 벡터 생성"
   ]
  },
  {
   "cell_type": "code",
   "execution_count": 28,
   "metadata": {},
   "outputs": [
    {
     "name": "stdout",
     "output_type": "stream",
     "text": [
      "{'values': [0.01128387451171875, -0.017608642578125, ..., -0.02032470703125, -0.006984710693359375]}\n"
     ]
    }
   ],
   "source": [
    "# 쿼리 텍스트 정의\n",
    "query = \"애플이라는 기술 회사에 대해 알려주세요.\"\n",
    "\n",
    "# 쿼리 텍스트를 임베딩 벡터로 변환합니다.\n",
    "embedding = pc.inference.embed(\n",
    "    model=\"multilingual-e5-large\", # ms 오픈 소스, 1024 차원\n",
    "    inputs=[query],\n",
    "    parameters={\n",
    "        \"input_type\":\"query\" # 입력 타입을 쿼리로 설정\n",
    "    }\n",
    ")\n",
    "\n",
    "print(embedding[0])"
   ]
  },
  {
   "cell_type": "markdown",
   "metadata": {},
   "source": [
    "# 유사 벡터 검색 쿼리 실행\n",
    "* ns1 네임스페이스에서 쿼리 벡터와 유사한 상위 3개의 벡터 검색"
   ]
  },
  {
   "cell_type": "code",
   "execution_count": 29,
   "metadata": {},
   "outputs": [
    {
     "name": "stdout",
     "output_type": "stream",
     "text": [
      "{'matches': [{'id': 'vec2',\n",
      "              'metadata': {'text': '애플이라는 기술 회사는 아이폰과 같은 혁신적인 제품으로 유명합니다.'},\n",
      "              'score': 0.896025717,\n",
      "              'values': []},\n",
      "             {'id': 'vec4',\n",
      "              'metadata': {'text': '애플 주식회사는 세련된 디자인과 사용자 친화적인 인터페이스로 기술 산업을 '\n",
      "                                   '혁신했습니다.'},\n",
      "              'score': 0.883902133,\n",
      "              'values': []},\n",
      "             {'id': 'vec6',\n",
      "              'metadata': {'text': '애플 컴퓨터 회사는 1976년 4월 1일 스티브 잡스, 스티브 워즈니악, '\n",
      "                                   '로널드 웨인에 의해 파트너십으로 설립되었습니다.'},\n",
      "              'score': 0.867603183,\n",
      "              'values': []}],\n",
      " 'namespace': 'quickstart_ns1',\n",
      " 'usage': {'read_units': 6}}\n"
     ]
    }
   ],
   "source": [
    "# 검색 결과 -> 벡터 값 포함 X, 메타데이터만 포함\n",
    "results = index.query(\n",
    "    namespace=\"quickstart_ns1\",\n",
    "    vector=embedding[0].values, # query 벡터\n",
    "    top_k=3,\n",
    "    include_values=False,  # value는 제외\n",
    "    include_metadata=True\n",
    ")\n",
    "\n",
    "# 검색 결과를 출력\n",
    "print(results)"
   ]
  },
  {
   "cell_type": "markdown",
   "metadata": {},
   "source": [
    "* 쿼리 텍스트 정의 → 임베딩 벡터로 변환 → 임베딩 벡터 출력"
   ]
  },
  {
   "cell_type": "code",
   "execution_count": 30,
   "metadata": {},
   "outputs": [
    {
     "name": "stdout",
     "output_type": "stream",
     "text": [
      "{'values': [-0.00437164306640625, -0.021728515625, ..., -0.01873779296875, 0.00787353515625]}\n"
     ]
    }
   ],
   "source": [
    "# 쿼리 텍스트 정의\n",
    "query=\"애플(사과)라는 기술 회사에 대해 알려주세요.\"\n",
    "\n",
    "# 쿼리 텍스트를 임베딩 벡터로 변환\n",
    "embedding=pc.inference.embed(\n",
    "    model=\"multilingual-e5-large\",\n",
    "    inputs=[query],\n",
    "    parameters={\n",
    "        \"input_type\": \"query\"  # 입력 타입을 쿼리로 설정\n",
    "    }\n",
    ")\n",
    "\n",
    "# 첫 번째 임베딩 벡터를 출력\n",
    "print(embedding[0])"
   ]
  },
  {
   "cell_type": "code",
   "execution_count": null,
   "metadata": {},
   "outputs": [],
   "source": []
  }
 ],
 "metadata": {
  "kernelspec": {
   "display_name": "langchain_rag_env",
   "language": "python",
   "name": "python3"
  },
  "language_info": {
   "codemirror_mode": {
    "name": "ipython",
    "version": 3
   },
   "file_extension": ".py",
   "mimetype": "text/x-python",
   "name": "python",
   "nbconvert_exporter": "python",
   "pygments_lexer": "ipython3",
   "version": "3.12.7"
  }
 },
 "nbformat": 4,
 "nbformat_minor": 2
}
